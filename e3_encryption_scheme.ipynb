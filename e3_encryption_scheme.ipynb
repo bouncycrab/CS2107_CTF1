{
 "cells": [
  {
   "cell_type": "code",
   "execution_count": null,
   "metadata": {},
   "outputs": [],
   "source": [
    "import string as str_lib\n",
    "\n",
    "string = 'P   K   D   F   U   B   L   I   S   Z   H   N   X   T   A   Y   G   J   Q   O   M   C   V   R   E   W'\n",
    "string = string.split()\n",
    "alphabet = list(str_lib.ascii_uppercase)\n",
    "\n",
    "dic = zip (alphabet, string)\n",
    "dic = dict(dic)"
   ]
  },
  {
   "cell_type": "code",
   "execution_count": 19,
   "metadata": {},
   "outputs": [
    {
     "data": {
      "text/plain": [
       "'BET_THIS_TOOK_YOU_A_WHILE'"
      ]
     },
     "execution_count": 19,
     "metadata": {},
     "output_type": "execute_result"
    }
   ],
   "source": [
    "cipher = 'KUO_OISQ_OAAH_EAM_P_VISNU'\n",
    "plain = ''\n",
    "for i in range(len(cipher)):\n",
    "    if cipher[i] in dic:\n",
    "        plain += dic[cipher[i]]\n",
    "    else:\n",
    "        plain += '_'\n",
    "plain"
   ]
  },
  {
   "cell_type": "code",
   "execution_count": null,
   "metadata": {},
   "outputs": [],
   "source": []
  }
 ],
 "metadata": {
  "kernelspec": {
   "display_name": "base",
   "language": "python",
   "name": "python3"
  },
  "language_info": {
   "codemirror_mode": {
    "name": "ipython",
    "version": 3
   },
   "file_extension": ".py",
   "mimetype": "text/x-python",
   "name": "python",
   "nbconvert_exporter": "python",
   "pygments_lexer": "ipython3",
   "version": "3.11.7"
  }
 },
 "nbformat": 4,
 "nbformat_minor": 2
}
