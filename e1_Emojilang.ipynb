{
 "cells": [
  {
   "cell_type": "code",
   "execution_count": 14,
   "metadata": {},
   "outputs": [],
   "source": [
    "cip = \"😘😀🤢🤢😍 🤩😋😵😂😘😬😀😍!! 😘😊🤢😉 😍😊😭😵 😬😀😍’😱 🤫😭🤬🤬 😊🤫 😁😊😊😬 🤮😋🤩😉😱, 😁😊😊😬 🤫😊😊😬, 😀😇😬 😀🤬🤬 😂😘😉 😂😘😋😇😁😱 😍😊😭 🤬😊🤮😉. 😍😊😭 😬😉😱😉😵🤮😉 😂😘😉 🤩😉😱😂, 😱😊 🥰😀🥶😉 😱😭😵😉 😂😊 😂😵😉😀😂 😍😊😭😵😱😉🤬🤫 (😀😇😬 😉😀😂 😉🥳😂😵😀 🥵😀🥶😉 🤫😊😵 🥰😉 🤬😊🤬). 😀🤬😱😊, 😘😉😵😉’😱 😂😊 🥵😉🤬😉🤩😵😀😂😋😇😁 😂😘😉 😱😉🥵😵😉😂 🤬😀😇😁😭😀😁😉 🧐😉 😭😱😉 😂😊 😂😀🤬🥶 😂😊 😉😀🥵😘 😊😂😘😉😵 😉🤮😉😵😍 😬😀😍. 😋😂 🥰😀🥶😉😱 😉🤮😉😵😍😂😘😋😇😁 😱😊 🥰😭🥵😘 🥰😊😵😉 🤫😭😇 😀😇😬 🤫😉😉🤬😱 🤬😋🥶😉 😊😭😵 😊🧐😇 🤬😋😂😂🤬😉 🥵😊😬😉. 🥵😘😉😉😵😱 😂😊 😀😇😊😂😘😉😵 😍😉😀😵 😊🤫 🤬😀😭😁😘😱, 😀😬🤮😉😇😂😭😵😉😱, 😀😇😬 😵😀😇😬😊🥰 😱😘😉😇😀 😇😋😁😀😇😱. 🤬😉😂’😱 🥵😉🤬😉🤩😵😀😂😉 😱😊😊😇!🥵😱🤨🤯🤪🤑{😱🥶😋🤩😋😬😋_😉🥰😊😮😋_🤬😀😇😁😭😀😁😉_😁😊_🤩😵😵😵😵😵😵}\"\n",
    "\n",
    "def calc_frequency(c):\n",
    "    freq = {}\n",
    "    for i in c:\n",
    "        if i in freq:\n",
    "            freq[i] += 1\n",
    "        else:\n",
    "            freq[i] = 1\n",
    "    return freq\n"
   ]
  },
  {
   "cell_type": "code",
   "execution_count": 15,
   "metadata": {},
   "outputs": [
    {
     "name": "stdout",
     "output_type": "stream",
     "text": [
      "happy birthday!! h😊p😉 y😊😭r day’s 🤫😭🤬🤬 😊🤫 😁😊😊d 🤮ib😉s, 😁😊😊d 🤫😊😊d, a😇d a🤬🤬 th😉 thi😇😁s y😊😭 🤬😊🤮😉. y😊😭 d😉s😉r🤮😉 th😉 b😉st, s😊 🥰a🥶😉 s😭r😉 t😊 tr😉at y😊😭rs😉🤬🤫 (a😇d 😉at 😉🥳tra ca🥶😉 🤫😊r 🥰😉 🤬😊🤬). a🤬s😊, h😉r😉’s t😊 c😉🤬😉brati😇😁 th😉 s😉cr😉t 🤬a😇😁😭a😁😉 🧐😉 😭s😉 t😊 ta🤬🥶 t😊 😉ach 😊th😉r 😉🤮😉ry day. it 🥰a🥶😉s 😉🤮😉rythi😇😁 s😊 🥰😭ch 🥰😊r😉 🤫😭😇 a😇d 🤫😉😉🤬s 🤬i🥶😉 😊😭r 😊🧐😇 🤬itt🤬😉 c😊d😉. ch😉😉rs t😊 a😇😊th😉r y😉ar 😊🤫 🤬a😭😁hs, ad🤮😉😇t😭r😉s, a😇d ra😇d😊🥰 sh😉😇a 😇i😁a😇s. 🤬😉t’s c😉🤬😉brat😉 s😊😊😇!cs2107{s🥶ibidi_😉🥰😊😮i_🤬a😇😁😭a😁😉_😁😊_brrrrrr}\n"
     ]
    }
   ],
   "source": [
    "a='🥵😱🤨🤯🤪🤑'\n",
    "b='cs2107'\n",
    "\n",
    "c = '😘😀🤢🤢😍 🤩😋😵😂😘😬😀😍'\n",
    "d = 'happy birthday'\n",
    "\n",
    "\n",
    "dic = {}\n",
    "for i in range(len(a)):\n",
    "    dic[a[i]] = b[i]\n",
    "\n",
    "for i in range(len(c)):\n",
    "    dic[c[i]] = d[i]\n",
    "    \n",
    "for key, value in dic.items():\n",
    "    cip = cip.replace(key, value)\n",
    "    \n",
    "print(cip)"
   ]
  },
  {
   "cell_type": "code",
   "execution_count": 16,
   "metadata": {},
   "outputs": [],
   "source": [
    "cip = cip.replace('😊','o')\n",
    "#print(cip)\n",
    "cip = cip.replace('😉','e')\n",
    "cip = cip.replace('😭','u')"
   ]
  },
  {
   "cell_type": "code",
   "execution_count": 24,
   "metadata": {},
   "outputs": [],
   "source": [
    "cip = cip.replace('🤮','v')\n",
    "cip = cip.replace('😇','n')\n",
    "cip = cip.replace('🤬','l')\n",
    "\n"
   ]
  },
  {
   "cell_type": "code",
   "execution_count": 30,
   "metadata": {},
   "outputs": [
    {
     "name": "stdout",
     "output_type": "stream",
     "text": [
      "happy birthday!! hope your day’s full of good vibes, good food, and all the things you love. you deserve the best, so make sure to treat yourself (and eat extra cake for me lol). also, here’s to celebrating the secret language we use to talk to each other every day. it makes everything so much more fun and feels like our own little code. cheers to another year of laughs, adventures, and random shena nigans. let’s celebrate soon!cs2107{skibidi_emo😮i_language_go_brrrrrr}\n"
     ]
    }
   ],
   "source": [
    "cip = cip.replace('🤫','f')\n",
    "cip = cip.replace('😁','g')\n",
    "cip = cip.replace('🥰','m')\n",
    "cip = cip.replace('🥶','k')\n",
    "cip = cip.replace('🧐','w')\n",
    "cip = cip.replace ('🥳','x')\n",
    "print(cip)"
   ]
  }
 ],
 "metadata": {
  "kernelspec": {
   "display_name": "base",
   "language": "python",
   "name": "python3"
  },
  "language_info": {
   "codemirror_mode": {
    "name": "ipython",
    "version": 3
   },
   "file_extension": ".py",
   "mimetype": "text/x-python",
   "name": "python",
   "nbconvert_exporter": "python",
   "pygments_lexer": "ipython3",
   "version": "3.11.7"
  }
 },
 "nbformat": 4,
 "nbformat_minor": 2
}
