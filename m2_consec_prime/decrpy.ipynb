{
 "cells": [
  {
   "cell_type": "code",
   "execution_count": 41,
   "metadata": {},
   "outputs": [
    {
     "name": "stdout",
     "output_type": "stream",
     "text": [
      "15022064814002804288444634645037748576386064235428107485139858893631903713175762692336109545917680029236256800125129741001009510298183460316554780386029639520187821627327521440447539232785082226688510083014878656679396711145575219038170938866168534544514288143227320737955513060725412715148572381631909831999135907438380321395811632344457595033767753527984975744250363757403065029365698960387719065634482782357679036239179965317993299540874484289425034365194025684374466153349684059398040117741618963046724636312554969929854657821580124832518844425634456258686649026743945466877835598812198576862154433551917743113977\n"
     ]
    }
   ],
   "source": [
    "public_key = \"\"\"\n",
    "76:ff:67:a4:93:14:e1:cc:35:21:72:ed:6a:3c:fe:\n",
    "    26:8e:fd:0a:76:55:42:1c:c5:ec:3f:c8:ee:7e:c8:\n",
    "    fe:ae:da:7d:e3:9c:10:61:61:db:12:de:45:57:2c:\n",
    "    76:b5:9c:fa:08:f3:c6:29:88:26:35:6b:98:7d:7a:\n",
    "    80:81:49:a2:74:77:6a:7c:07:f0:14:9c:0c:2c:37:\n",
    "    45:ed:88:13:c4:62:aa:9f:87:6a:59:a1:46:9c:1f:\n",
    "    82:70:52:5f:11:f4:72:f2:04:77:c1:01:cc:26:82:\n",
    "    f8:c7:32:40:4e:9d:43:ad:46:e8:bb:59:84:0f:00:\n",
    "    2e:8a:4d:1a:ec:ea:5c:ae:52:8a:ff:39:61:d0:67:\n",
    "    93:aa:94:ff:00:e0:27:e6:b8:b5:c6:36:dd:0f:f7:\n",
    "    ab:ec:24:2a:94:19:f0:bd:9c:85:67:d7:69:5e:6e:\n",
    "    a0:ae:e2:a2:c4:c7:41:53:b9:04:35:47:c2:ac:9c:\n",
    "    6d:2d:96:43:b8:a7:4f:94:83:fb:ba:47:68:9c:f9:\n",
    "    ee:76:9f:92:09:2b:c0:6b:26:fc:69:06:a9:91:4b:\n",
    "    f6:97:a5:ca:00:6d:03:77:f3:93:fd:e1:54:40:74:\n",
    "    88:17:69:18:95:16:17:9a:b4:25:b1:e0:93:24:3c:\n",
    "    d3:90:1b:7f:f6:9b:7b:48:72:20:b1:57:11:ac:86:\n",
    "    f9\n",
    "\"\"\"\n",
    "\n",
    "public_key = public_key.replace(\":\", \"\").replace(\"\\n\", \"\").replace(\" \", \"\")\n",
    "import base64\n",
    "\n",
    "decoded_bytes = int(public_key, 16).to_bytes(256, byteorder='big')\n",
    "integer = int.from_bytes(decoded_bytes, byteorder='big')\n",
    "\n",
    "print(integer)"
   ]
  },
  {
   "cell_type": "code",
   "execution_count": 48,
   "metadata": {},
   "outputs": [
    {
     "name": "stdout",
     "output_type": "stream",
     "text": [
      "122564533263105131805219395168730737254913925308107446924432222988397456691879660302872565586979973949928358472522027763006365696572628866737324226616750071105666412806422909021707722170529712846814351409460536425482134858254727768782256112486299827365955397837258327292950850115648756273562286057546251017468\n"
     ]
    }
   ],
   "source": [
    "import math\n",
    "sqrt_approx = math.isqrt(integer)\n",
    "print(sqrt_approx)"
   ]
  },
  {
   "cell_type": "code",
   "execution_count": 49,
   "metadata": {},
   "outputs": [],
   "source": [
    "def getNextPrime(num):\n",
    "    is_prime = False\n",
    "    while not is_prime:\n",
    "        num += 1\n",
    "        is_prime = isPrime(num)\n",
    "    return num\n",
    "\n",
    "from Crypto.Util.number import getPrime, bytes_to_long, isPrime\n",
    "q= getNextPrime(sqrt_approx) "
   ]
  },
  {
   "cell_type": "code",
   "execution_count": 53,
   "metadata": {},
   "outputs": [
    {
     "data": {
      "text/plain": [
       "True"
      ]
     },
     "execution_count": 53,
     "metadata": {},
     "output_type": "execute_result"
    }
   ],
   "source": [
    "sqrt_approx*q > integer"
   ]
  },
  {
   "cell_type": "code",
   "execution_count": 46,
   "metadata": {},
   "outputs": [
    {
     "ename": "KeyboardInterrupt",
     "evalue": "",
     "output_type": "error",
     "traceback": [
      "\u001b[0;31m---------------------------------------------------------------------------\u001b[0m",
      "\u001b[0;31mKeyboardInterrupt\u001b[0m                         Traceback (most recent call last)",
      "Cell \u001b[0;32mIn[46], line 1\u001b[0m\n\u001b[0;32m----> 1\u001b[0m \u001b[38;5;28;01mwhile\u001b[39;00m \u001b[38;5;129;01mnot\u001b[39;00m isPrime(sqrt_approx):\n\u001b[1;32m      2\u001b[0m     sqrt_approx \u001b[38;5;241m-\u001b[39m\u001b[38;5;241m=\u001b[39m \u001b[38;5;241m2\u001b[39m\n",
      "File \u001b[0;32m/opt/anaconda3/lib/python3.11/site-packages/Crypto/Util/number.py:366\u001b[0m, in \u001b[0;36misPrime\u001b[0;34m(N, false_positive_prob, randfunc)\u001b[0m\n\u001b[1;32m    362\u001b[0m             \u001b[38;5;28;01mraise\u001b[39;00m \u001b[38;5;167;01mRuntimeError\u001b[39;00m (\u001b[38;5;124m\"\u001b[39m\u001b[38;5;124mCouln\u001b[39m\u001b[38;5;124m'\u001b[39m\u001b[38;5;124mt find prime in field. \u001b[39m\u001b[38;5;124m\"\u001b[39m\n\u001b[1;32m    363\u001b[0m                                 \u001b[38;5;124m\"\u001b[39m\u001b[38;5;124mDeveloper: Increase field_size\u001b[39m\u001b[38;5;124m\"\u001b[39m)\n\u001b[1;32m    364\u001b[0m     \u001b[38;5;28;01mreturn\u001b[39;00m X\n\u001b[0;32m--> 366\u001b[0m \u001b[38;5;28;01mdef\u001b[39;00m \u001b[38;5;21misPrime\u001b[39m(N, false_positive_prob\u001b[38;5;241m=\u001b[39m\u001b[38;5;241m1e-6\u001b[39m, randfunc\u001b[38;5;241m=\u001b[39m\u001b[38;5;28;01mNone\u001b[39;00m):\n\u001b[1;32m    367\u001b[0m \u001b[38;5;250m    \u001b[39m\u001b[38;5;124mr\u001b[39m\u001b[38;5;124;03m\"\"\"Test if a number *N* is a prime.\u001b[39;00m\n\u001b[1;32m    368\u001b[0m \n\u001b[1;32m    369\u001b[0m \u001b[38;5;124;03m    Args:\u001b[39;00m\n\u001b[0;32m   (...)\u001b[0m\n\u001b[1;32m    381\u001b[0m \u001b[38;5;124;03m        `True` if the input is indeed prime.\u001b[39;00m\n\u001b[1;32m    382\u001b[0m \u001b[38;5;124;03m    \"\"\"\u001b[39;00m\n\u001b[1;32m    384\u001b[0m     \u001b[38;5;28;01mif\u001b[39;00m randfunc \u001b[38;5;129;01mis\u001b[39;00m \u001b[38;5;28;01mNone\u001b[39;00m:\n",
      "\u001b[0;31mKeyboardInterrupt\u001b[0m: "
     ]
    }
   ],
   "source": [
    "while not isPrime(sqrt_approx):\n",
    "    sqrt_approx -= 2"
   ]
  },
  {
   "cell_type": "code",
   "execution_count": 64,
   "metadata": {},
   "outputs": [],
   "source": [
    "from math import isqrt\n",
    "def fermat_factor(n):\n",
    "    a = isqrt(n)\n",
    "    if a % 2 == 0:\n",
    "        a += 1\n",
    "    \n",
    "    while True:\n",
    "        b2 = a*a - n\n",
    "        b = isqrt(b2)\n",
    "        if b*b == b2: \n",
    "            p = a + b\n",
    "            q = a - b\n",
    "            if isPrime(p) and isPrime(q):\n",
    "                return q, p\n",
    "        a += 1\n",
    "        \n",
    "p, q = fermat_factor(integer)"
   ]
  },
  {
   "cell_type": "code",
   "execution_count": 71,
   "metadata": {},
   "outputs": [],
   "source": [
    "p = 122564533263105131805219395168730737254913925308107446924432222988397456691879660302872565586979973949928358472522027763006365696572628866737324226616750071105666412806422909021707722170529712846814351409460536425482134858254727768782256112486299827365955397837258327292950850115648756273562286057546251017241"
   ]
  },
  {
   "cell_type": "code",
   "execution_count": 72,
   "metadata": {},
   "outputs": [
    {
     "data": {
      "text/plain": [
       "True"
      ]
     },
     "execution_count": 72,
     "metadata": {},
     "output_type": "execute_result"
    }
   ],
   "source": [
    "getNextPrime(p) == q"
   ]
  },
  {
   "cell_type": "code",
   "execution_count": 70,
   "metadata": {},
   "outputs": [],
   "source": [
    "q = 122564533263105131805219395168730737254913925308107446924432222988397456691879660302872565586979973949928358472522027763006365696572628866737324226616750071105666412806422909021707722170529712846814351409460536425482134858254727768782256112486299827365955397837258327292950850115648756273562286057546251017697"
   ]
  },
  {
   "cell_type": "code",
   "execution_count": 7,
   "metadata": {},
   "outputs": [
    {
     "data": {
      "text/plain": [
       "2.2249980627453283"
      ]
     },
     "execution_count": 7,
     "metadata": {},
     "output_type": "execute_result"
    }
   ],
   "source": [
    "from math import *\n",
    "sqrt(50000 + 1000) - sqrt(50000)\n"
   ]
  },
  {
   "cell_type": "code",
   "execution_count": 78,
   "metadata": {},
   "outputs": [
    {
     "data": {
      "text/plain": [
       "'CS2107{rsa_stands_for_really_secure_algorithm}'"
      ]
     },
     "execution_count": 78,
     "metadata": {},
     "output_type": "execute_result"
    }
   ],
   "source": [
    "from Crypto.Util.number import long_to_bytes\n",
    "\n",
    "c =5386745578892252493629777101564994993634378251520334918092031445295894192409984984611981039017003587404111921590209942907759589736139674889454852561381060281769129328798639905589327125790302180499676230198309687491257941949785517342049163055263526486446290801464792975555955093412660368434362616168606832439688009598483547154384835962781331232795557144750472065833005047704169117137485176197827154613511161316457555353686213126206831101358255637448230142122858287324146956131924227263579257553953414379961924707044466379355684420927384541916250387459115007919167675963388304586528230700682989428061701576094846509332\n",
    "m = pow(c, d, integer)\n",
    "flag = long_to_bytes(m).decode()\n",
    "flag"
   ]
  },
  {
   "cell_type": "code",
   "execution_count": null,
   "metadata": {},
   "outputs": [],
   "source": []
  }
 ],
 "metadata": {
  "kernelspec": {
   "display_name": "base",
   "language": "python",
   "name": "python3"
  },
  "language_info": {
   "codemirror_mode": {
    "name": "ipython",
    "version": 3
   },
   "file_extension": ".py",
   "mimetype": "text/x-python",
   "name": "python",
   "nbconvert_exporter": "python",
   "pygments_lexer": "ipython3",
   "version": "3.11.7"
  }
 },
 "nbformat": 4,
 "nbformat_minor": 2
}
