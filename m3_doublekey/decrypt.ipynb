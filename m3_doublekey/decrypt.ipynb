{
 "cells": [
  {
   "cell_type": "code",
   "execution_count": 11,
   "metadata": {},
   "outputs": [
    {
     "name": "stdout",
     "output_type": "stream",
     "text": [
      "Original integers: [32, 1114005, 1101463, 394030, 84696, 808604, 34414, 844181, 208466, 168853, 641173, 84281, 707948, 558990, 90360, 240716, 260243, 1017835, 298578, 443957, 792599, 610739, 164950, 108033, 1054055, 397286, 922263, 970198, 889513, 933231, 1027223, 790065, 186186, 765716]\n"
     ]
    }
   ],
   "source": [
    "def decode_to_integers(encrypted_str):\n",
    "    # Convert each character back to its integer value using ord()\n",
    "    return [ord(c) for c in encrypted_str]\n",
    "\n",
    "# Example usage:\n",
    "encrypted = \" 􏾕􌺗񠌮𔫘󅚜虮󎆕𲹒𩎕򜢕𔤹򬵬򈞎𖃸𺱌𿢓󸟫񈹒񬘵󁠗򕆳𨑖𚘁􁕧񠿦󡊗󬷖󙊩󣵯󺲗󀸱𭝊򺼔\"  # Replace with your encrypted string\n",
    "integers = decode_to_integers(encrypted)\n",
    "print(f\"Original integers: {integers}\")"
   ]
  },
  {
   "cell_type": "code",
   "execution_count": 30,
   "metadata": {},
   "outputs": [],
   "source": [
    "A1 = [1114005, 1101463, 394030, 84696, 808604, 34414, 844181, 208466, 168853, 641173, 84281, 707948, 558990, 90360, 240716, 260243, 1017835, 298578, 443957, 792599, 610739, 164950, 108033, 1054055, 397286, 922263, 970198, 889513, 933231, 1027223, 790065, 186186, 765664, 472090, 509374, 389849, 664331]"
   ]
  },
  {
   "cell_type": "code",
   "execution_count": 19,
   "metadata": {},
   "outputs": [],
   "source": [
    "A = 1114005 #C\n",
    "B = 1114058\n",
    "# secretkey[0] = B - A\n",
    "AA = 1101463 #S\n",
    "AB = 1101565\n",
    "\n",
    "AAA = 394030 #2\n",
    "AAB =394087\n",
    "\n",
    "\n",
    "AAAAAAA = \n",
    "\n",
    "\n"
   ]
  },
  {
   "cell_type": "code",
   "execution_count": 12,
   "metadata": {},
   "outputs": [
    {
     "data": {
      "text/plain": [
       "'}'"
      ]
     },
     "execution_count": 12,
     "metadata": {},
     "output_type": "execute_result"
    }
   ],
   "source": [
    "def flagGenerator(A,B,prev):\n",
    "    inv = pow(B-A, -1, 1114111) # 65-FLAG\n",
    "    #1114005 = (65 - flag ) * key\n",
    "    flag = (65 + prev - (A * inv)) % 1114111\n",
    "    return flag\n",
    "chr(flagGenerator(765664,765716,186186))"
   ]
  },
  {
   "cell_type": "code",
   "execution_count": null,
   "metadata": {},
   "outputs": [],
   "source": [
    "'w0w_y0u_c4n_mult1ply_by_0'"
   ]
  },
  {
   "cell_type": "code",
   "execution_count": 74,
   "metadata": {},
   "outputs": [
    {
     "ename": "KeyboardInterrupt",
     "evalue": "",
     "output_type": "error",
     "traceback": [
      "\u001b[0;31m---------------------------------------------------------------------------\u001b[0m",
      "\u001b[0;31mKeyboardInterrupt\u001b[0m                         Traceback (most recent call last)",
      "Cell \u001b[0;32mIn[74], line 49\u001b[0m\n\u001b[1;32m     46\u001b[0m         nc\u001b[38;5;241m.\u001b[39mterminate()\n\u001b[1;32m     48\u001b[0m \u001b[38;5;28;01mif\u001b[39;00m \u001b[38;5;18m__name__\u001b[39m \u001b[38;5;241m==\u001b[39m \u001b[38;5;124m\"\u001b[39m\u001b[38;5;124m__main__\u001b[39m\u001b[38;5;124m\"\u001b[39m:\n\u001b[0;32m---> 49\u001b[0m     exploit()\n",
      "Cell \u001b[0;32mIn[74], line 23\u001b[0m, in \u001b[0;36mexploit\u001b[0;34m()\u001b[0m\n\u001b[1;32m     14\u001b[0m nc \u001b[38;5;241m=\u001b[39m subprocess\u001b[38;5;241m.\u001b[39mPopen(\n\u001b[1;32m     15\u001b[0m     [\u001b[38;5;124m'\u001b[39m\u001b[38;5;124mnc\u001b[39m\u001b[38;5;124m'\u001b[39m, \u001b[38;5;124m'\u001b[39m\u001b[38;5;124mcs2107-ctfd-i.comp.nus.edu.sg\u001b[39m\u001b[38;5;124m'\u001b[39m, \u001b[38;5;124m'\u001b[39m\u001b[38;5;124m12345\u001b[39m\u001b[38;5;124m'\u001b[39m],  \u001b[38;5;66;03m# Replace with actual host and port\u001b[39;00m\n\u001b[1;32m     16\u001b[0m     stdin\u001b[38;5;241m=\u001b[39msubprocess\u001b[38;5;241m.\u001b[39mPIPE,\n\u001b[1;32m     17\u001b[0m     stdout\u001b[38;5;241m=\u001b[39msubprocess\u001b[38;5;241m.\u001b[39mPIPE,\n\u001b[1;32m     18\u001b[0m     text\u001b[38;5;241m=\u001b[39m\u001b[38;5;28;01mTrue\u001b[39;00m\n\u001b[1;32m     19\u001b[0m )\n\u001b[1;32m     21\u001b[0m \u001b[38;5;28;01mtry\u001b[39;00m:\n\u001b[1;32m     22\u001b[0m     \u001b[38;5;66;03m# Read welcome message\u001b[39;00m\n\u001b[0;32m---> 23\u001b[0m     \u001b[38;5;28mprint\u001b[39m(nc\u001b[38;5;241m.\u001b[39mstdout\u001b[38;5;241m.\u001b[39mreadline())\n\u001b[1;32m     25\u001b[0m     \u001b[38;5;66;03m# Send 'A' and get result\u001b[39;00m\n\u001b[1;32m     26\u001b[0m     response \u001b[38;5;241m=\u001b[39m send_command(nc, \u001b[38;5;124m'\u001b[39m\u001b[38;5;124mA\u001b[39m\u001b[38;5;124m'\u001b[39m)\n",
      "\u001b[0;31mKeyboardInterrupt\u001b[0m: "
     ]
    }
   ],
   "source": [
    "import subprocess\n",
    "import time\n",
    "\n",
    "def send_command(proc, command):\n",
    "    proc.stdin.write(command + '\\n')\n",
    "    proc.stdin.flush()\n",
    "    time.sleep(0.1)  # Small delay to ensure we get response\n",
    "    return proc.stdout.readline()\n",
    "\n",
    "def exploit():\n",
    "    M = 1114111\n",
    "    \n",
    "    # Start nc process\n",
    "    nc = subprocess.Popen(\n",
    "        ['nc', 'cs2107-ctfd-i.comp.nus.edu.sg', '12345'],  # Replace with actual host and port\n",
    "        stdin=subprocess.PIPE,\n",
    "        stdout=subprocess.PIPE,\n",
    "        text=True\n",
    "    )\n",
    "    \n",
    "    try:\n",
    "        # Read welcome message\n",
    "        print(nc.stdout.readline())\n",
    "        \n",
    "        # Send 'A' and get result\n",
    "        response = send_command(nc, 'A')\n",
    "        enc_a = [ord(c) for c in response.split(': ')[1].strip()]\n",
    "        print(f\"Encrypted 'A': {enc_a}\")\n",
    "        \n",
    "        # Send 'B' and get result\n",
    "        response = send_command(nc, 'B')\n",
    "        enc_b = [ord(c) for c in response.split(': ')[1].strip()]\n",
    "        print(f\"Encrypted 'B': {enc_b}\")\n",
    "        \n",
    "        # Calculate SECRET_KEY[0]\n",
    "        secret_key_0 = (enc_b[0] - enc_a[0]) % M\n",
    "        print(f\"Found SECRET_KEY[0] = {secret_key_0}\")\n",
    "        \n",
    "        # Calculate FLAG[0]\n",
    "        flag_0 = 65 - (enc_a[0] * pow(secret_key_0, -1, M)) % M\n",
    "        print(f\"Found FLAG[0] = '{chr(flag_0)}' (ASCII {flag_0})\")\n",
    "        \n",
    "    except Exception as e:\n",
    "        print(f\"Error: {e}\")\n",
    "    finally:\n",
    "        nc.terminate()\n",
    "\n",
    "if __name__ == \"__main__\":\n",
    "    exploit()"
   ]
  },
  {
   "cell_type": "code",
   "execution_count": null,
   "metadata": {},
   "outputs": [
    {
     "ename": "BrokenPipeError",
     "evalue": "[Errno 32] Broken pipe",
     "output_type": "error",
     "traceback": [
      "\u001b[0;31m---------------------------------------------------------------------------\u001b[0m",
      "\u001b[0;31mBrokenPipeError\u001b[0m                           Traceback (most recent call last)",
      "Cell \u001b[0;32mIn[2], line 61\u001b[0m\n\u001b[1;32m     58\u001b[0m         ssh_proc\u001b[38;5;241m.\u001b[39mterminate()\n\u001b[1;32m     60\u001b[0m \u001b[38;5;28;01mif\u001b[39;00m \u001b[38;5;18m__name__\u001b[39m \u001b[38;5;241m==\u001b[39m \u001b[38;5;124m\"\u001b[39m\u001b[38;5;124m__main__\u001b[39m\u001b[38;5;124m\"\u001b[39m:\n\u001b[0;32m---> 61\u001b[0m     exploit()\n",
      "Cell \u001b[0;32mIn[2], line 25\u001b[0m, in \u001b[0;36mexploit\u001b[0;34m()\u001b[0m\n\u001b[1;32m     23\u001b[0m \u001b[38;5;66;03m# Start nc through SSH\u001b[39;00m\n\u001b[1;32m     24\u001b[0m ssh_proc\u001b[38;5;241m.\u001b[39mstdin\u001b[38;5;241m.\u001b[39mwrite(\u001b[38;5;124m'\u001b[39m\u001b[38;5;124mnc cs2107-ctfd-i.comp.nus.edu.sg 12345\u001b[39m\u001b[38;5;130;01m\\n\u001b[39;00m\u001b[38;5;124m'\u001b[39m)\n\u001b[0;32m---> 25\u001b[0m ssh_proc\u001b[38;5;241m.\u001b[39mstdin\u001b[38;5;241m.\u001b[39mflush()\n\u001b[1;32m     26\u001b[0m time\u001b[38;5;241m.\u001b[39msleep(\u001b[38;5;241m1\u001b[39m)  \u001b[38;5;66;03m# Wait for nc to connect\u001b[39;00m\n\u001b[1;32m     28\u001b[0m \u001b[38;5;28;01mtry\u001b[39;00m:\n\u001b[1;32m     29\u001b[0m     \u001b[38;5;66;03m# Read welcome message\u001b[39;00m\n",
      "\u001b[0;31mBrokenPipeError\u001b[0m: [Errno 32] Broken pipe"
     ]
    }
   ],
   "source": []
  },
  {
   "cell_type": "code",
   "execution_count": 23,
   "metadata": {},
   "outputs": [],
   "source": [
    "from Crypto.Util.number import getPrime, isPrime\n",
    "\n",
    "def getNextPrime(num):\n",
    "    is_prime = False\n",
    "    while not is_prime:\n",
    "        num += 1\n",
    "        is_prime = isPrime(num)\n",
    "    return num\n",
    "\n",
    "\n",
    "p = getPrime(1000)\n",
    "q = getNextPrime(p)"
   ]
  },
  {
   "cell_type": "code",
   "execution_count": 57,
   "metadata": {},
   "outputs": [
    {
     "data": {
      "text/plain": [
       "True"
      ]
     },
     "execution_count": 57,
     "metadata": {},
     "output_type": "execute_result"
    }
   ],
   "source": [
    "from math import sqrt\n",
    "from math import isqrt\n",
    "num1 = getPrime(100)\n",
    "num1= 20733746510561442863\n",
    "num2 = getNextPrime(num1)\n",
    "isqrt(num1 * num2) + 1 == (num1 + num2) // 2\n",
    "\n",
    "\n"
   ]
  },
  {
   "cell_type": "code",
   "execution_count": 59,
   "metadata": {},
   "outputs": [
    {
     "data": {
      "text/plain": [
       "4553432387.83244"
      ]
     },
     "execution_count": 59,
     "metadata": {},
     "output_type": "execute_result"
    }
   ],
   "source": [
    "sqrt(num1)"
   ]
  },
  {
   "cell_type": "code",
   "execution_count": 60,
   "metadata": {},
   "outputs": [
    {
     "data": {
      "text/plain": [
       "4553432387.83244"
      ]
     },
     "execution_count": 60,
     "metadata": {},
     "output_type": "execute_result"
    }
   ],
   "source": [
    "sqrt(num2)"
   ]
  },
  {
   "cell_type": "code",
   "execution_count": 65,
   "metadata": {},
   "outputs": [
    {
     "name": "stdout",
     "output_type": "stream",
     "text": [
      "4553432387.8324407226239376290663406895520897712649\n"
     ]
    }
   ],
   "source": [
    "from decimal import Decimal, getcontext\n",
    "\n",
    "# Set the precision\n",
    "getcontext().prec = 50\n",
    "\n",
    "# Calculate the square root with higher precision\n",
    "sqrt_num1 = Decimal(num1).sqrt()\n",
    "print(sqrt_num1)"
   ]
  },
  {
   "cell_type": "code",
   "execution_count": 62,
   "metadata": {},
   "outputs": [
    {
     "data": {
      "text/plain": [
       "20733746510561442863"
      ]
     },
     "execution_count": 62,
     "metadata": {},
     "output_type": "execute_result"
    }
   ],
   "source": [
    "num1"
   ]
  },
  {
   "cell_type": "code",
   "execution_count": null,
   "metadata": {},
   "outputs": [],
   "source": []
  }
 ],
 "metadata": {
  "kernelspec": {
   "display_name": "base",
   "language": "python",
   "name": "python3"
  },
  "language_info": {
   "codemirror_mode": {
    "name": "ipython",
    "version": 3
   },
   "file_extension": ".py",
   "mimetype": "text/x-python",
   "name": "python",
   "nbconvert_exporter": "python",
   "pygments_lexer": "ipython3",
   "version": "3.11.7"
  }
 },
 "nbformat": 4,
 "nbformat_minor": 2
}
