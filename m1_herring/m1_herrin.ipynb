{
 "cells": [
  {
   "cell_type": "code",
   "execution_count": 45,
   "metadata": {},
   "outputs": [
    {
     "name": "stdout",
     "output_type": "stream",
     "text": [
      "265\n"
     ]
    }
   ],
   "source": [
    "thing = '''# Flag is the secret and will be in the format CS2107{50m3th1ng}\n",
    "\n",
    "# 3 things to import\n",
    "from Crypto.Cipher import AES\n",
    "from random import randbytes\n",
    "from Crypto.Util.Padding import pad\n",
    "\n",
    "# Randomly generated key!\n",
    "cipher = AES.new(randbytes(16),AES.MODE_ECB)\n",
    "secret = \"\n",
    "'''\n",
    "print(len(thing))"
   ]
  },
  {
   "cell_type": "code",
   "execution_count": 57,
   "metadata": {},
   "outputs": [
    {
     "data": {
      "text/plain": [
       "{b'i\\x8cb\\xa5\\xe0^\\x19\\xe7\\xb0\\xbd|\\x8eIp\\xeeR': '#',\n",
       " b'\\xaa\\xa8\\xdfy\\x8bq\\xfa\\xcb\\xfd#M\\x81(\\xfb}\\xf9': ' ',\n",
       " b']\\xc9\\xa5\\xeb*\\xb6\\x0b\\x024\\x0c\\xfd\\xa3\\xaad\\xa1\\xaa': 'F',\n",
       " b'x\\x9ee\\xf3\\x8f\\x91j4\\x1a6psXe\\x07\\x9c': 'l',\n",
       " b'\\xe5bL  B\\x83R\\xd2IC\\xbd\\x1a\\x0b\\x92\\x1d': 'a',\n",
       " b'\\x95\\x15\\x89\\xb2\\xe0u\\xad.\\xa1Bf\\xf3u\\xf5\\x1aG': 'g',\n",
       " b'\\xe0\\x1cY\\xba\\xbd$\\xe4\\xad\\x85\\x85\\xbb\\xebr\\x06\\xa9\\xf4': 'i',\n",
       " b'\"\\xfb\\x9d\\x10!\\x1ePI\\xd5\\xc4VA\\x94\\xbdxi': 's',\n",
       " b'(\\xe6\\x15\\xa7\\t\\xe7i8\\xd5\\x18\\xa8u\\xcb^\\x1c\\xc0': 't',\n",
       " b'\\xdf>S\\x00\\xb7\\x10;5\\xd0a&\\xca\\x04\\xfd\\xc5\\xc8': 'h',\n",
       " b'z\\x0f\\xc6,\\xe5\\xf6T\\x83Fz\\x97\\x0f l\\xee\\x13': 'e',\n",
       " b'A\\x94\\xff+Cb&\\x8b\\x9f\\xb9Ej\\x8a\\x81\\xfa\\xc7': 'c',\n",
       " b'/\\x1d\\xde\\xc7\\nb\\xc4\\x94\\x19\\xa3\\xc0\\x00`\\xb6[\\xaf': 'r',\n",
       " b'\\x07\\x9e\\x88,KY\\x11&\\xaf\\x8e\\x8a\\xef<s\\n\\xf1': 'n',\n",
       " b'\\xd2n+%PZ\\xd2\\xdf>\\xb9\\x82M:*\\xc6\\xb9': 'd',\n",
       " b'\\xca\\xc5\\xce\\xec\\xf2v\\xb2\\xddV\\x84\\x99\\xbd\\\\\\xc9P\\xd5': 'w',\n",
       " b'E\\xf8\\x97@p\\x1eAE\\x10\\x99\\x8bk\\x87o\\xed\\x0b': 'b',\n",
       " b'\\xa4|\\xfa7j\\xef\\xceE\\x03-]\\x02\\xad\\xe6\\xd9d': 'f',\n",
       " b'\\xaa@\\xd3n\\x97\\xdfg\\xb9\\xdc\\\\E\\x81\\xbd\\xe2\\x90\\xbd': 'o',\n",
       " b'\\x9a\\x13\\xb1\\x8c\\x8fA\\xefP\\x01\\xc5\\x97\\x15\\x9f\\x92\\xab\\xf2': 'm',\n",
       " b'E\\xfaU\\xa0&\\x11=!\\x0fy\\xba#\\xaf\\x14p\\x0e': 'C',\n",
       " b'\\x83^\\x1e\\x9a\\xc0O\"\\xbb]x!\\xa1k\\x0c\\x13g': 'S',\n",
       " b'7\\xec\\xff\\xa1*l\\x7f\\x1b\\xb0\\x1a:\\xb3E\\xef\\xe4\\x1d': '2',\n",
       " b'nV\\x81:o(\\x18\\x1a\\xbcr\\x94\\xe1i\\x98\\xaf\\xe6': '1',\n",
       " b'P\\x06di\\xcd\\xb9U\\xd8{\\x7f\\xc8\\xb2\\xe1\\xd1\\xcb\\xf3': '0',\n",
       " b'\\x9b\\xcd\\x97\\xd5^\\xc1\\xbeP\\x98h\\xd9\\xf0\\xb6J\\x95,': '7',\n",
       " b'\\r\\xafG\\xbe\\xd3;\\x9c\\xbf6\\xea\\xec)\\xa9\\th)': '{',\n",
       " b'G\\xb4 j\\xa7\\xab \\xd7\\xd2a\\xe7g\\x0bDJ\\xfa': '5',\n",
       " b'\\xb7\\xd0\\xd1\\x14\\x07\\xdc0\\n\\xc55\\xc6n\\xf4\\xdf\\x98\\t': '3',\n",
       " b'\\r\\x9d\\x87\\x159\\xc5R\\x1b\\x81Gv\\xe7\\x97\\xa7\\x1b\\x86': '}',\n",
       " b'\\x0e\\xbbj\\xaa\\x9f\\x08$Q\\xfd\\x8e\\xe4\\x80+\\xcfc[': '\\n',\n",
       " b'k\\xa6)\\xfa\\xf2\\xf7\\x90\\x95\\x05\\xdda\\x83\\x8bC\\x0f\"': 'p',\n",
       " b\"\\xc7\\x12\\xa7 \\xaf\\xa2\\xc0'2\\x01n\\xde\\xb7w\\\\\\xb2\": 'y',\n",
       " b'Z\\x01NJ\\xd2M\\x14B\\xe2zZ\\xf8%\\xd6\\xee\\xe4': '.',\n",
       " b'\\xa2\\x1f\\x7f\\xe2\\x05\\x18\\xf7e\\xbe\\x80z C`\\x84E': 'A',\n",
       " b'\\x06\\xae\\x14\\xc8\\xcbU\\xe6\\x83mDAc\\xa7\\x1dg\\x8a': 'E',\n",
       " b'\\x0e\\xb9\\xabi\\x1d\\xcb\\xafv\\xee\\xc0p\\xd2\\xd6\\xb3;I': 'U',\n",
       " b'\\\\DY\\xbd3\\xd8\\xcd\\xac\\xf1C\\xd5\\x84\\xd4\\x9f\\xe8\\xf8': 'P',\n",
       " b'V\\xc6\\x18\\x9b\\xb5`iO\\r\\nx\\x11\\xe7)\\x1ad': 'R',\n",
       " b'\\x93\\x8c\\x03\\xf0\\xeb\\xffi\\xf3w\\xaa\\xb3\\x99G\\xeb\\xae\\x8e': 'k',\n",
       " b'+\\xb4\\x95\\xe7\\x96\\xbdN\\x1b\\xe1p\\x02\\x11h\\x1d\\x05\\xbb': '!',\n",
       " b'\\xfc\\x80\\x89\\x98\"\\xdfL\\x15\\xca\\x9f\\x9b\\x88\\x13L\\x1f\\x98': '=',\n",
       " b'4\\xd6j\\x13U\\xb9s\\xa2rz\\xf8\\rW\\x02\\x96\\xd3': '(',\n",
       " b'X^\\xdd\\xb8\\x9a\\x12Y\\xc9\\x9b`\\x9b\\xf0x\\xdcl\\xfa': '6',\n",
       " b'(\\xd7Q\\xa7>\\xda\\x07\\r\\xc3\\x97\\x88tO\\xcc\\x16\\xf1': ')',\n",
       " b'\\xab\\xf7\\r\\x14x\\xc0^\\xde\\xea\\xdc\\xfa\\xe9\\xb9\\xd4u\\x17': ',',\n",
       " b'\\xe2\\xe1d;\\xc40\\xe0\\x91(\\x82\\xa3\\xff\\x0e\\x18)|': 'M',\n",
       " b'\\xa2\\xd2@\\xf5\\xf0\\xf0\\x97V\\xdc\\xef\\x08\\xb7\\x1a\\x91\\xd4\\xd4': 'O',\n",
       " b'\\xd11\\x91X\\xcf\\xae\\xce\\xfd\\xb0\\xa3\\x969^\\xb7\\xa6\\x1e': 'D',\n",
       " b'\\x11\\xb7\\xbe\\x1b\\x9a\\x9e|4U\\xfc_\\xa0]\\x18\\x96\\xde': '_',\n",
       " b'\\xc0\\x15\\xd6\\xde\\xae\\x04\\x1b\\x97\\xae]6\\x0e\\xcb\\xc1\\xefQ': 'B',\n",
       " b'\\x8c\\xf6{\\x88\\xde\\x12\\x99S\\xc9&tk\\xf86^\\xc6': '\"'}"
      ]
     },
     "execution_count": 57,
     "metadata": {},
     "output_type": "execute_result"
    }
   ],
   "source": [
    "with open('output', 'rb') as file:\n",
    "    binary_data = file.read()\n",
    "    s2_blocks = [s2[i:i+16] for i in range(0, 264*16, 16)]\n",
    "    \n",
    "\n",
    "\n",
    "source = '''# Flag is the secret and will be in the format CS2107{50m3th1ng}\n",
    "\n",
    "# 3 things to import\n",
    "from Crypto.Cipher import AES\n",
    "from random import randbytes\n",
    "from Crypto.Util.Padding import pad\n",
    "\n",
    "# Randomly generated key!\n",
    "cipher = AES.new(randbytes(16),AES.MODE_ECB)\n",
    "secret = \"[REDACTED]\"\n",
    "code = open(\"herring.py\",\"rb\").read()\n",
    "\n",
    "with open(\"test_output\",\"wb\") as f:\n",
    "    for i in code:\n",
    "        f.write(cipher.encrypt(pad(bytes([i]),16)))'''\n",
    "        \n",
    "dic = {}\n",
    "for i in range(264):\n",
    "    if s2_blocks[i] not in dic:\n",
    "        dic[s2_blocks[i]] = source[i]\n",
    "    else:\n",
    "        continue\n",
    "dic"
   ]
  },
  {
   "cell_type": "code",
   "execution_count": 63,
   "metadata": {},
   "outputs": [
    {
     "data": {
      "text/plain": [
       "'# Flag is the secret and will be in the format CS2107{50m3th1ng}\\n\\n# 3 things to import\\nfrom Crypto.Cipher import AES\\nfrom random import randbytes\\nfrom Crypto.Util.Padding import pad\\n\\n# Randomly generated key!\\ncipher = AES.new(randbytes(16),AES.MODE_ECB)\\nsecret = \"CS2107{byt3_by_byt3_3ncrypt10n_15_k1ll1ng_my_AES!!}\"\\ncode = open(\"herring.py\",\"rb\").read()\\n\\nwith open(\"otpt\",\"wb\") as f\\n    for i in code\\n        f.write(cipher.encrypt(pad(bytes(i),16)))'"
      ]
     },
     "execution_count": 63,
     "metadata": {},
     "output_type": "execute_result"
    }
   ],
   "source": [
    "with open('output', 'rb') as file:\n",
    "    binary_data = file.read()\n",
    "    s2_blocks = [s2[i:i+16] for i in range(0, len(binary_data), 16)]\n",
    "    \n",
    "plaintext = ''\n",
    "    \n",
    "for block in s2_blocks:\n",
    "    if block in dic:\n",
    "        plaintext += dic[block]\n",
    "\n",
    "plaintext"
   ]
  },
  {
   "cell_type": "code",
   "execution_count": 2,
   "metadata": {},
   "outputs": [],
   "source": [
    "decrypted = 'CS2107{byt3_by_byt3_3ncrypt10n_15_k1ll1ng_my_AES!!}'"
   ]
  },
  {
   "cell_type": "code",
   "execution_count": 3,
   "metadata": {},
   "outputs": [
    {
     "data": {
      "text/plain": [
       "51"
      ]
     },
     "execution_count": 3,
     "metadata": {},
     "output_type": "execute_result"
    }
   ],
   "source": [
    "len(decrypted)"
   ]
  },
  {
   "cell_type": "code",
   "execution_count": null,
   "metadata": {},
   "outputs": [],
   "source": []
  }
 ],
 "metadata": {
  "kernelspec": {
   "display_name": "base",
   "language": "python",
   "name": "python3"
  },
  "language_info": {
   "codemirror_mode": {
    "name": "ipython",
    "version": 3
   },
   "file_extension": ".py",
   "mimetype": "text/x-python",
   "name": "python",
   "nbconvert_exporter": "python",
   "pygments_lexer": "ipython3",
   "version": "3.11.7"
  }
 },
 "nbformat": 4,
 "nbformat_minor": 2
}
